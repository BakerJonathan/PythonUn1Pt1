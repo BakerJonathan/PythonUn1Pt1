{
 "cells": [
  {
   "cell_type": "markdown",
   "metadata": {},
   "source": [
    "# Week 2 - Monday Lesson (variable assignment, loops, lists)"
   ]
  },
  {
   "cell_type": "markdown",
   "metadata": {},
   "source": [
    "## Tasks Today:\n",
    "\n",
    "1) Int & Float assignments <br>\n",
    " &nbsp;&nbsp;&nbsp;&nbsp; a) Assigning int <br>\n",
    " &nbsp;&nbsp;&nbsp;&nbsp; b) Assigning float <br>\n",
    " &nbsp;&nbsp;&nbsp;&nbsp; c) Performing Calculations on ints and floats <br>\n",
    " &nbsp;&nbsp;&nbsp;&nbsp;&nbsp;&nbsp;&nbsp;&nbsp; - Addition <br>\n",
    " &nbsp;&nbsp;&nbsp;&nbsp;&nbsp;&nbsp;&nbsp;&nbsp; - Subtraction <br>\n",
    " &nbsp;&nbsp;&nbsp;&nbsp;&nbsp;&nbsp;&nbsp;&nbsp; - Multiplication <br>\n",
    " &nbsp;&nbsp;&nbsp;&nbsp;&nbsp;&nbsp;&nbsp;&nbsp; - Division <br>\n",
    " &nbsp;&nbsp;&nbsp;&nbsp;&nbsp;&nbsp;&nbsp;&nbsp; - Floor Division <br>\n",
    " &nbsp;&nbsp;&nbsp;&nbsp;&nbsp;&nbsp;&nbsp;&nbsp; - Modulo <br>\n",
    " &nbsp;&nbsp;&nbsp;&nbsp;&nbsp;&nbsp;&nbsp;&nbsp; - Exponential <br>\n",
    "2) String Input-Output <br>\n",
    " &nbsp;&nbsp;&nbsp;&nbsp; a) String Assignment <br>\n",
    " &nbsp;&nbsp;&nbsp;&nbsp; b) print() <br>\n",
    " &nbsp;&nbsp;&nbsp;&nbsp; c) String Concatenation <br>\n",
    " &nbsp;&nbsp;&nbsp;&nbsp; d) Type Conversion <br>\n",
    " &nbsp;&nbsp;&nbsp;&nbsp; e) input() <br>\n",
    " &nbsp;&nbsp;&nbsp;&nbsp; f) format() <br>\n",
    " &nbsp;&nbsp;&nbsp;&nbsp; g) Old Way (python 2) <br>\n",
    "3) <b>In-Class Exercise #1</b> <br>\n",
    "4) If Statements <br>\n",
    " &nbsp;&nbsp;&nbsp;&nbsp; a) 'is' keyword <br>\n",
    " &nbsp;&nbsp;&nbsp;&nbsp; b) 'in' keyword <br>\n",
    " &nbsp;&nbsp;&nbsp;&nbsp; c) 'not in' keyword <br>\n",
    "5) <b>In-Class Exercise #2</b> <br>\n",
    "6) Elif Statements <br>\n",
    "7) Else Statements <br>\n",
    "8) <b>In-Class Exercise #3</b> <br>\n",
    "9) For Loops <br>\n",
    " &nbsp;&nbsp;&nbsp;&nbsp; a) Using 'in' keyword <br>\n",
    " &nbsp;&nbsp;&nbsp;&nbsp; b) Continue Statement <br>\n",
    " &nbsp;&nbsp;&nbsp;&nbsp; c) Break Statement <br>\n",
    " &nbsp;&nbsp;&nbsp;&nbsp; d) Pass Statement <br>\n",
    " &nbsp;&nbsp;&nbsp;&nbsp; e) Double For Loops <br>\n",
    "10) While Loops <br>\n",
    " &nbsp;&nbsp;&nbsp;&nbsp; a) Looping 'While True' <br>\n",
    " &nbsp;&nbsp;&nbsp;&nbsp; b) While and For Loops Used Together <br>\n",
    "11) Built-In Functions <br>\n",
    " &nbsp;&nbsp;&nbsp;&nbsp; a) range() <br>\n",
    " &nbsp;&nbsp;&nbsp;&nbsp; b) len() <br>\n",
    " &nbsp;&nbsp;&nbsp;&nbsp; c) help() <br>\n",
    " &nbsp;&nbsp;&nbsp;&nbsp; d) isinstance() <br>\n",
    " &nbsp;&nbsp;&nbsp;&nbsp; e) abs() <br>\n",
    "12) Try and Except <br>\n",
    "13) Lists <br>\n",
    " &nbsp;&nbsp;&nbsp;&nbsp; a) Declaring Lists <br>\n",
    " &nbsp;&nbsp;&nbsp;&nbsp; b) Indexing a List <br>\n",
    " &nbsp;&nbsp;&nbsp;&nbsp; c) .append() <br>\n",
    " &nbsp;&nbsp;&nbsp;&nbsp; d) .insert() <br>\n",
    " &nbsp;&nbsp;&nbsp;&nbsp; e) .pop() <br>\n",
    " &nbsp;&nbsp;&nbsp;&nbsp; f) .remove() <br>\n",
    " &nbsp;&nbsp;&nbsp;&nbsp; g) del() <br>\n",
    " &nbsp;&nbsp;&nbsp;&nbsp; h) Concatenating Two Lists <br>\n",
    " &nbsp;&nbsp;&nbsp;&nbsp; i) Lists Within Lists <br>\n",
    " &nbsp;&nbsp;&nbsp;&nbsp; j) Looping Through Lists <br>"
   ]
  },
  {
   "cell_type": "markdown",
   "metadata": {},
   "source": [
    "### Int & Float Assignments"
   ]
  },
  {
   "cell_type": "markdown",
   "metadata": {},
   "source": [
    "##### Assigning int"
   ]
  },
  {
   "cell_type": "code",
   "execution_count": 2,
   "metadata": {},
   "outputs": [
    {
     "name": "stdout",
     "output_type": "stream",
     "text": [
      "6\n"
     ]
    }
   ],
   "source": [
    "num=6\n",
    "\n",
    "print(num)"
   ]
  },
  {
   "cell_type": "markdown",
   "metadata": {},
   "source": [
    "##### Assinging float"
   ]
  },
  {
   "cell_type": "code",
   "execution_count": 3,
   "metadata": {},
   "outputs": [
    {
     "name": "stdout",
     "output_type": "stream",
     "text": [
      "2.0\n"
     ]
    }
   ],
   "source": [
    "numF=2.0\n",
    "print(numF)"
   ]
  },
  {
   "cell_type": "markdown",
   "metadata": {},
   "source": [
    "#### Performing Calculations on ints and floats"
   ]
  },
  {
   "cell_type": "markdown",
   "metadata": {},
   "source": [
    "##### Addition"
   ]
  },
  {
   "cell_type": "code",
   "execution_count": 4,
   "metadata": {},
   "outputs": [
    {
     "name": "stdout",
     "output_type": "stream",
     "text": [
      "7.4\n"
     ]
    }
   ],
   "source": [
    "num1=2\n",
    "num2=5.4\n",
    "print(num1+num2)\n"
   ]
  },
  {
   "cell_type": "markdown",
   "metadata": {},
   "source": [
    "##### Subtraction"
   ]
  },
  {
   "cell_type": "code",
   "execution_count": 8,
   "metadata": {},
   "outputs": [
    {
     "name": "stdout",
     "output_type": "stream",
     "text": [
      "3.4000000000000004\n"
     ]
    }
   ],
   "source": [
    "\n",
    "print(num2-num1)\n",
    "\n"
   ]
  },
  {
   "cell_type": "markdown",
   "metadata": {},
   "source": [
    "##### Multiplication"
   ]
  },
  {
   "cell_type": "code",
   "execution_count": 9,
   "metadata": {},
   "outputs": [
    {
     "name": "stdout",
     "output_type": "stream",
     "text": [
      "10.8\n"
     ]
    }
   ],
   "source": [
    "print(num2*num1)"
   ]
  },
  {
   "cell_type": "markdown",
   "metadata": {},
   "source": [
    "##### Division"
   ]
  },
  {
   "cell_type": "code",
   "execution_count": 10,
   "metadata": {},
   "outputs": [
    {
     "name": "stdout",
     "output_type": "stream",
     "text": [
      "2.7\n"
     ]
    }
   ],
   "source": [
    "print(num2/num1)"
   ]
  },
  {
   "cell_type": "markdown",
   "metadata": {},
   "source": [
    "##### Floor Division"
   ]
  },
  {
   "cell_type": "code",
   "execution_count": 11,
   "metadata": {},
   "outputs": [
    {
     "name": "stdout",
     "output_type": "stream",
     "text": [
      "2.0\n"
     ]
    }
   ],
   "source": [
    "print(num2//num1)"
   ]
  },
  {
   "cell_type": "markdown",
   "metadata": {},
   "source": [
    "##### Modulo"
   ]
  },
  {
   "cell_type": "code",
   "execution_count": 14,
   "metadata": {},
   "outputs": [
    {
     "name": "stdout",
     "output_type": "stream",
     "text": [
      "2\n"
     ]
    }
   ],
   "source": [
    "print(10%4)"
   ]
  },
  {
   "cell_type": "markdown",
   "metadata": {},
   "source": [
    "##### Exponential"
   ]
  },
  {
   "cell_type": "code",
   "execution_count": 15,
   "metadata": {},
   "outputs": [
    {
     "name": "stdout",
     "output_type": "stream",
     "text": [
      "27\n"
     ]
    }
   ],
   "source": [
    "print(3**3)"
   ]
  },
  {
   "cell_type": "markdown",
   "metadata": {},
   "source": [
    "### String Input-Output"
   ]
  },
  {
   "cell_type": "markdown",
   "metadata": {},
   "source": [
    "##### String Assignment"
   ]
  },
  {
   "cell_type": "code",
   "execution_count": 16,
   "metadata": {},
   "outputs": [
    {
     "name": "stdout",
     "output_type": "stream",
     "text": [
      "Jon\n"
     ]
    }
   ],
   "source": [
    "name='Jon'\n",
    "print(name)"
   ]
  },
  {
   "cell_type": "markdown",
   "metadata": {},
   "source": [
    "##### print() <br>\n",
    "<p>Don't forget about end=' '</p>"
   ]
  },
  {
   "cell_type": "code",
   "execution_count": 19,
   "metadata": {},
   "outputs": [
    {
     "name": "stdout",
     "output_type": "stream",
     "text": [
      "Hello Jon\n",
      "Hello Jon Sir"
     ]
    }
   ],
   "source": [
    "print(\"Hello\", name)\n",
    "\n",
    "print(\"Hello\", name, end=\" Sir\")"
   ]
  },
  {
   "cell_type": "markdown",
   "metadata": {},
   "source": [
    "##### String Concatenation"
   ]
  },
  {
   "cell_type": "code",
   "execution_count": 23,
   "metadata": {},
   "outputs": [
    {
     "name": "stdout",
     "output_type": "stream",
     "text": [
      "Jon Baker\n",
      "Jon Baker Baker\n"
     ]
    }
   ],
   "source": [
    "new_name=name + ' Baker'\n",
    "print(new_name)\n",
    "\n",
    "new_name+=\" Baker\"\n",
    "print(new_name)"
   ]
  },
  {
   "cell_type": "markdown",
   "metadata": {},
   "source": [
    "##### Type Conversion"
   ]
  },
  {
   "cell_type": "code",
   "execution_count": 24,
   "metadata": {},
   "outputs": [
    {
     "name": "stdout",
     "output_type": "stream",
     "text": [
      "34\n"
     ]
    }
   ],
   "source": [
    "number=\"33\"\n",
    "change_type_num=int(number)\n",
    "print(change_type_num+1)"
   ]
  },
  {
   "cell_type": "markdown",
   "metadata": {},
   "source": [
    "##### input()"
   ]
  },
  {
   "cell_type": "code",
   "execution_count": 28,
   "metadata": {},
   "outputs": [
    {
     "name": "stdout",
     "output_type": "stream",
     "text": [
      "Age?33\n",
      "38\n"
     ]
    }
   ],
   "source": [
    "#always string\n",
    "# name=input('What is your name?')\n",
    "# print(name)\n",
    "\n",
    "age=input(\"Age?\")\n",
    "print(int(age)+5)"
   ]
  },
  {
   "cell_type": "markdown",
   "metadata": {},
   "source": [
    "##### format()"
   ]
  },
  {
   "cell_type": "code",
   "execution_count": 30,
   "metadata": {},
   "outputs": [
    {
     "name": "stdout",
     "output_type": "stream",
     "text": [
      "age?24\n",
      "You are 24 Josephoo and you are getting wiser!\n",
      "24 is a great time in life\n"
     ]
    }
   ],
   "source": [
    "age=input(\"age?\")\n",
    "result_string=\"You are {} {} and you are getting wiser!\".format(age,name)\n",
    "print(result_string)\n",
    "\n",
    "result_2=f\"{age} is a great time in life\"\n",
    "print(result_2)"
   ]
  },
  {
   "cell_type": "markdown",
   "metadata": {},
   "source": [
    "##### Old Way (python 2)"
   ]
  },
  {
   "cell_type": "code",
   "execution_count": 33,
   "metadata": {},
   "outputs": [
    {
     "name": "stdout",
     "output_type": "stream",
     "text": [
      "You are 24 and you look great for your age\n"
     ]
    }
   ],
   "source": [
    "result_3= \"You are %s and you look great for your age\"%age\n",
    "print(result_3)"
   ]
  },
  {
   "cell_type": "markdown",
   "metadata": {},
   "source": [
    "# In-Class Exercise 1 <br>\n",
    "<p>Create a format statement that asks for color, year, make, model and prints out the results</p>"
   ]
  },
  {
   "cell_type": "code",
   "execution_count": 5,
   "metadata": {},
   "outputs": [
    {
     "name": "stdout",
     "output_type": "stream",
     "text": [
      "What color is your car Neon Dark\n",
      "What year is your car 2077\n",
      "What make is your car Forde\n",
      "What model is your car Pitch\n",
      "\n",
      "You own a Neon Dark 2077 Forde Pitch \n"
     ]
    }
   ],
   "source": [
    "Q=[\"color\",\"year\",\"make\",\"model\"]\n",
    "A=[]\n",
    "\n",
    "for i in range(len(Q)):\n",
    "    A.append(input(f\"What {Q[i]} is your car \"))\n",
    "    \n",
    "print(f\"\\nYou own a {A[0]} {A[1]} {A[2]} {A[3]} \")"
   ]
  },
  {
   "cell_type": "markdown",
   "metadata": {},
   "source": [
    "### If Statements"
   ]
  },
  {
   "cell_type": "code",
   "execution_count": 3,
   "metadata": {},
   "outputs": [
    {
     "name": "stdout",
     "output_type": "stream",
     "text": [
      "This ran\n"
     ]
    }
   ],
   "source": [
    "# Available operators: Greater(>), Less(<),Equal(==)\n",
    "# Greater or Equal(>=), Less or Equal (<=)\n",
    "\n",
    "# Truth Tree:\n",
    "# T && F = F\n",
    "# T && T = T\n",
    "# T || F = T\n",
    "# F || T = T\n",
    "# F || F = F\n",
    "\n",
    "num1=5\n",
    "num2=10\n",
    "num3=1\n",
    "\n",
    "# if num1==num2:\n",
    "#     print('Equal')\n",
    "# else:\n",
    "#     print('Not')\n",
    "\n",
    "if num2<num1 or num3>0:\n",
    "    print(\"This ran\")\n",
    "else:\n",
    "    print(\"You are here\")"
   ]
  },
  {
   "cell_type": "markdown",
   "metadata": {},
   "source": [
    "##### 'is' keyword"
   ]
  },
  {
   "cell_type": "code",
   "execution_count": 34,
   "metadata": {
    "scrolled": true
   },
   "outputs": [
    {
     "name": "stdout",
     "output_type": "stream",
     "text": [
      "Yes\n"
     ]
    },
    {
     "name": "stderr",
     "output_type": "stream",
     "text": [
      "<>:2: SyntaxWarning: \"is\" with a literal. Did you mean \"==\"?\n",
      "<>:2: SyntaxWarning: \"is\" with a literal. Did you mean \"==\"?\n",
      "C:\\Users\\Jonathan\\AppData\\Local\\Temp\\ipykernel_15496\\3645626271.py:2: SyntaxWarning: \"is\" with a literal. Did you mean \"==\"?\n",
      "  if num3 is 55:\n"
     ]
    }
   ],
   "source": [
    "num3=55\n",
    "if num3 is 55:\n",
    "    print(\"Yes\")\n",
    "#     Python no longer likes"
   ]
  },
  {
   "cell_type": "markdown",
   "metadata": {},
   "source": [
    "##### 'in' keyword"
   ]
  },
  {
   "cell_type": "code",
   "execution_count": 36,
   "metadata": {},
   "outputs": [],
   "source": [
    "# Checks if a character is in a string\n",
    "\n",
    "char_name=\"Frodo Baggins\"\n",
    "if \"Frodo\" in char_name:\n",
    "    print(\"The ring bearer\")\n",
    "#     Case sensitive unless worked around"
   ]
  },
  {
   "cell_type": "markdown",
   "metadata": {},
   "source": [
    "##### 'not in' keyword'"
   ]
  },
  {
   "cell_type": "code",
   "execution_count": 37,
   "metadata": {},
   "outputs": [
    {
     "name": "stdout",
     "output_type": "stream",
     "text": [
      "a not here\n"
     ]
    }
   ],
   "source": [
    "sonic=\"sonic\"\n",
    "if 'a' not in sonic:\n",
    "    print('a not here')"
   ]
  },
  {
   "cell_type": "markdown",
   "metadata": {},
   "source": [
    "# In-Class Exercise 2 <br>\n",
    "<p>Ask user for input, check to see if the letter 'p' is in the input</p>"
   ]
  },
  {
   "cell_type": "code",
   "execution_count": 2,
   "metadata": {},
   "outputs": [
    {
     "name": "stdout",
     "output_type": "stream",
     "text": [
      "Enter something in, we'll check for p: No anchovies\n",
      "There's no p\n"
     ]
    }
   ],
   "source": [
    "text=input(\"Enter something in, we'll check for p: \")\n",
    "if 'p' in text or 'P' in text:\n",
    "    print(\"There's a p\")\n",
    "else:\n",
    "    print(\"There's no p\")"
   ]
  },
  {
   "cell_type": "markdown",
   "metadata": {},
   "source": [
    "## Using 'and'/'or' with If Statements"
   ]
  },
  {
   "cell_type": "code",
   "execution_count": 40,
   "metadata": {},
   "outputs": [
    {
     "name": "stdout",
     "output_type": "stream",
     "text": [
      "true*2\n",
      "One true\n"
     ]
    }
   ],
   "source": [
    "num_11=15\n",
    "num_12=3\n",
    "num_13=10\n",
    "num_14=3\n",
    "if num_11/5==num_12 and num_13 -7==num_14:\n",
    "    print (\"true*2\")\n",
    "    \n",
    "    if num_11>num_12 or num_13==num_14:\n",
    "        print(\"One true\")"
   ]
  },
  {
   "cell_type": "markdown",
   "metadata": {},
   "source": [
    "### Elif Statements"
   ]
  },
  {
   "cell_type": "code",
   "execution_count": 7,
   "metadata": {},
   "outputs": [
    {
     "name": "stdout",
     "output_type": "stream",
     "text": [
      "What name?s\n",
      "Not max!\n"
     ]
    }
   ],
   "source": [
    "first_name=input('What name?')\n",
    "\n",
    "if first_name=='Smith':\n",
    "    print('This smith')\n",
    "elif first_name=='Brandon':\n",
    "    print('This Brandon')\n",
    "elif first_name!=\"Max\":\n",
    "    print('Not max!')\n",
    "else:\n",
    "    print ('This max')"
   ]
  },
  {
   "cell_type": "markdown",
   "metadata": {},
   "source": [
    "### Else Statements"
   ]
  },
  {
   "cell_type": "code",
   "execution_count": null,
   "metadata": {},
   "outputs": [],
   "source": [
    "# see above"
   ]
  },
  {
   "cell_type": "markdown",
   "metadata": {},
   "source": [
    "### For Loops"
   ]
  },
  {
   "cell_type": "code",
   "execution_count": 43,
   "metadata": {},
   "outputs": [
    {
     "name": "stdout",
     "output_type": "stream",
     "text": [
      "J|\n",
      "o|\n",
      "n|\n",
      "a|\n",
      "t|\n",
      "h|\n",
      "a|\n",
      "n|\n",
      " |\n",
      "B|\n",
      "a|\n",
      "k|\n",
      "e|\n",
      "r|\n"
     ]
    }
   ],
   "source": [
    "# for counter in condition\n",
    "\n",
    "name=\"Jonathan Baker\"\n",
    "\n",
    "for letter in name:\n",
    "    print(letter+\"|\")\n",
    "#     'letter' here is a placeholder, like how we use i in c++ a lot."
   ]
  },
  {
   "cell_type": "markdown",
   "metadata": {},
   "source": [
    "##### Using 'in' keyword"
   ]
  },
  {
   "cell_type": "code",
   "execution_count": null,
   "metadata": {},
   "outputs": [],
   "source": [
    "# see above"
   ]
  },
  {
   "cell_type": "markdown",
   "metadata": {},
   "source": [
    "##### Continue Statement"
   ]
  },
  {
   "cell_type": "code",
   "execution_count": null,
   "metadata": {},
   "outputs": [],
   "source": [
    "# will continue to next iteration"
   ]
  },
  {
   "cell_type": "code",
   "execution_count": 45,
   "metadata": {},
   "outputs": [
    {
     "name": "stdout",
     "output_type": "stream",
     "text": [
      "0\n",
      "1\n",
      "2\n",
      "3\n",
      "4\n",
      "6\n",
      "7\n",
      "8\n",
      "9\n",
      "10\n",
      "11\n",
      "12\n",
      "13\n",
      "14\n",
      "15\n",
      "16\n",
      "17\n",
      "18\n",
      "19\n"
     ]
    }
   ],
   "source": [
    "for i in range(20):\n",
    "    if i==5:\n",
    "        continue\n",
    "#         Continue skips through that iteration\n",
    "    print(i)\n",
    "#     Excludes 20, starts at 0"
   ]
  },
  {
   "cell_type": "markdown",
   "metadata": {},
   "source": [
    "##### Break Statement"
   ]
  },
  {
   "cell_type": "code",
   "execution_count": null,
   "metadata": {},
   "outputs": [],
   "source": [
    "# will break out of current loop"
   ]
  },
  {
   "cell_type": "code",
   "execution_count": 50,
   "metadata": {},
   "outputs": [
    {
     "name": "stdout",
     "output_type": "stream",
     "text": [
      "0\n",
      "1\n",
      "2\n",
      "3\n",
      "4\n"
     ]
    }
   ],
   "source": [
    "for i in range(20):\n",
    "    if i==5:\n",
    "        break\n",
    "#         break kills loop\n",
    "    print(i)\n",
    "#     Excludes 20, starts at 0"
   ]
  },
  {
   "cell_type": "markdown",
   "metadata": {},
   "source": [
    "##### Pass Statement"
   ]
  },
  {
   "cell_type": "code",
   "execution_count": null,
   "metadata": {},
   "outputs": [],
   "source": [
    "# mostly used as a placeholder, and will continue on same iteration"
   ]
  },
  {
   "cell_type": "code",
   "execution_count": 8,
   "metadata": {},
   "outputs": [],
   "source": [
    "name=\"Jonathan\"\n",
    "\n",
    "for i in name:\n",
    "    pass"
   ]
  },
  {
   "cell_type": "markdown",
   "metadata": {},
   "source": [
    "##### Double For Loops"
   ]
  },
  {
   "cell_type": "code",
   "execution_count": null,
   "metadata": {},
   "outputs": [],
   "source": [
    "for i in range(5):\n",
    "    for j in range(5):\n",
    "        print(i,j)"
   ]
  },
  {
   "cell_type": "markdown",
   "metadata": {},
   "source": [
    "### While Loops"
   ]
  },
  {
   "cell_type": "code",
   "execution_count": 51,
   "metadata": {},
   "outputs": [
    {
     "name": "stdout",
     "output_type": "stream",
     "text": [
      "0\n",
      "1\n",
      "2\n",
      "3\n",
      "4\n",
      "5\n",
      "6\n",
      "7\n",
      "8\n",
      "9\n"
     ]
    }
   ],
   "source": [
    "num=0\n",
    "while num<10:\n",
    "    print (num)\n",
    "    num+=1\n",
    "#     Make sure the loop heads to some sort of end"
   ]
  },
  {
   "cell_type": "markdown",
   "metadata": {},
   "source": [
    "##### Looping 'While True'"
   ]
  },
  {
   "cell_type": "code",
   "execution_count": 10,
   "metadata": {},
   "outputs": [
    {
     "name": "stdout",
     "output_type": "stream",
     "text": [
      "Infinite loop\n",
      "Stop?no\n",
      "Infinite loop\n",
      "Stop?no\n",
      "Infinite loop\n",
      "Stop?no\n",
      "Infinite loop\n",
      "Stop?no\n",
      "Infinite loop\n",
      "Stop?Yesh\n",
      "Infinite loop\n",
      "Stop?yes\n",
      "Infinite loop\n",
      "Stop?Yes\n"
     ]
    }
   ],
   "source": [
    "# Bad practice, unless external flags (if you can use another method of ending the loop, it's preferable)\n",
    "# Too easy to accidentally have infinite loops and that jazz\n",
    "\n",
    "g_o=True\n",
    "\n",
    "while g_o:\n",
    "    print('Infinite loop')\n",
    "    u_i=input('Stop?')\n",
    "    if u_i=='Yes':\n",
    "        g_o=False\n"
   ]
  },
  {
   "cell_type": "markdown",
   "metadata": {},
   "source": [
    "##### While & For Loops Used Together"
   ]
  },
  {
   "cell_type": "code",
   "execution_count": 53,
   "metadata": {},
   "outputs": [
    {
     "name": "stdout",
     "output_type": "stream",
     "text": [
      "\n",
      " While loop iteration 0\n",
      "For loop iteration 0\n",
      "For loop iteration 1\n",
      "\n",
      " While loop iteration 1\n",
      "For loop iteration 0\n",
      "For loop iteration 1\n",
      "\n",
      " While loop iteration 2\n",
      "For loop iteration 0\n",
      "For loop iteration 1\n",
      "\n",
      " While loop iteration 3\n",
      "For loop iteration 0\n",
      "For loop iteration 1\n",
      "\n",
      " While loop iteration 4\n",
      "For loop iteration 0\n",
      "For loop iteration 1\n"
     ]
    }
   ],
   "source": [
    "num=0\n",
    "\n",
    "while num<5:\n",
    "    print('\\n While loop iteration ' + str(num))\n",
    "    for i in range (2):\n",
    "        print (\"For loop iteration\", str(i))\n",
    "    num+=1"
   ]
  },
  {
   "cell_type": "markdown",
   "metadata": {},
   "source": [
    "### Built-In Functions"
   ]
  },
  {
   "cell_type": "markdown",
   "metadata": {},
   "source": [
    "##### range()"
   ]
  },
  {
   "cell_type": "code",
   "execution_count": 57,
   "metadata": {},
   "outputs": [
    {
     "name": "stdout",
     "output_type": "stream",
     "text": [
      "2\n",
      "5\n",
      "8\n",
      "11\n",
      "14\n",
      "17\n"
     ]
    }
   ],
   "source": [
    "for i in range(2,20,3):\n",
    "    print(i)\n",
    "#     Start, step, count\n",
    "#     if 2   if 1  if 3"
   ]
  },
  {
   "cell_type": "markdown",
   "metadata": {},
   "source": [
    "##### len()"
   ]
  },
  {
   "cell_type": "code",
   "execution_count": 59,
   "metadata": {},
   "outputs": [
    {
     "name": "stdout",
     "output_type": "stream",
     "text": [
      "15\n"
     ]
    }
   ],
   "source": [
    "name=\"Bob is paranoid\"\n",
    "print(len(name))"
   ]
  },
  {
   "cell_type": "markdown",
   "metadata": {},
   "source": [
    "##### help()"
   ]
  },
  {
   "cell_type": "code",
   "execution_count": 62,
   "metadata": {},
   "outputs": [
    {
     "name": "stdout",
     "output_type": "stream",
     "text": [
      "Help on built-in function abs in module builtins:\n",
      "\n",
      "abs(x, /)\n",
      "    Return the absolute value of the argument.\n",
      "\n"
     ]
    }
   ],
   "source": [
    "help(abs)"
   ]
  },
  {
   "cell_type": "markdown",
   "metadata": {},
   "source": [
    "##### isinstance()"
   ]
  },
  {
   "cell_type": "code",
   "execution_count": 66,
   "metadata": {},
   "outputs": [
    {
     "name": "stdout",
     "output_type": "stream",
     "text": [
      "False\n",
      "Is float\n"
     ]
    }
   ],
   "source": [
    "# Check family/data type (is a comparison)\n",
    "print(isinstance(4.5,int))\n",
    "if isinstance(4.5,float):\n",
    "    print(\"Is float\")"
   ]
  },
  {
   "cell_type": "markdown",
   "metadata": {},
   "source": [
    "##### abs()"
   ]
  },
  {
   "cell_type": "code",
   "execution_count": 67,
   "metadata": {},
   "outputs": [
    {
     "name": "stdout",
     "output_type": "stream",
     "text": [
      "5\n"
     ]
    }
   ],
   "source": [
    "# Absolute value, how far from zero, positive\n",
    "print(abs(-5))"
   ]
  },
  {
   "cell_type": "markdown",
   "metadata": {},
   "source": [
    "### Try and Except"
   ]
  },
  {
   "cell_type": "code",
   "execution_count": 72,
   "metadata": {},
   "outputs": [
    {
     "name": "stdout",
     "output_type": "stream",
     "text": [
      "Guess a number3.5\n",
      "That didn't work, input should be number\n"
     ]
    }
   ],
   "source": [
    "# Nice for errors\n",
    "# Try to do this, otherwise if you get an error (except)\n",
    "\n",
    "try:\n",
    "    number_test=0\n",
    "    input_num=int(input('Guess a number'))\n",
    "    print(\"your number is: \" +str(input_num))\n",
    "except:\n",
    "    print(\"That didn't work, input should be number\")\n",
    "    \n",
    "#     Let's code run even in case of errors too"
   ]
  },
  {
   "cell_type": "markdown",
   "metadata": {},
   "source": [
    "### Lists"
   ]
  },
  {
   "cell_type": "markdown",
   "metadata": {},
   "source": [
    "##### Declaring Lists"
   ]
  },
  {
   "cell_type": "code",
   "execution_count": 90,
   "metadata": {},
   "outputs": [
    {
     "name": "stdout",
     "output_type": "stream",
     "text": [
      "['Bob', 'Jerry', 'Sepiroth', 'Tusan', 'bro']\n"
     ]
    }
   ],
   "source": [
    "list_1=[]\n",
    "\n",
    "names=['Bob', 'Jerry', 'Sepiroth', 'Tusan', 'bro']\n",
    "\n",
    "print(names)"
   ]
  },
  {
   "cell_type": "markdown",
   "metadata": {},
   "source": [
    "##### Indexing a List"
   ]
  },
  {
   "cell_type": "code",
   "execution_count": 82,
   "metadata": {},
   "outputs": [
    {
     "name": "stdout",
     "output_type": "stream",
     "text": [
      "Bob\n",
      "['Jerry', 'Sepiroth', 'Tusan', 'bro']\n",
      "['Bob', 'Jerry']\n",
      "['Bob', 'Sepiroth', 'bro']\n",
      "['Jerry', 'Tusan']\n",
      "['bro', 'Tusan', 'Sepiroth', 'Jerry', 'Bob']\n",
      "['bro', 'Sepiroth', 'Bob']\n"
     ]
    }
   ],
   "source": [
    "# list_name[Start:stop:step]\n",
    "\n",
    "# Single index\n",
    "print(names[0])\n",
    "\n",
    "# Print from index to end\n",
    "\n",
    "print(names[1:])\n",
    "\n",
    "print(names[:2])\n",
    "# Until number 2 (seph)\n",
    "\n",
    "print(names[::2])\n",
    "print(names[1::2])\n",
    "\n",
    "# Reverse\n",
    "print(names[::-1])\n",
    "print(names[::-2])"
   ]
  },
  {
   "cell_type": "markdown",
   "metadata": {},
   "source": [
    "##### .append()"
   ]
  },
  {
   "cell_type": "code",
   "execution_count": 91,
   "metadata": {},
   "outputs": [
    {
     "name": "stdout",
     "output_type": "stream",
     "text": [
      "['Bob', 'Jerry', 'Sepiroth', 'Tusan', 'bro', 'George']\n"
     ]
    }
   ],
   "source": [
    "names.append(\"George\")\n",
    "print(names)"
   ]
  },
  {
   "cell_type": "markdown",
   "metadata": {},
   "source": [
    "##### .insert()"
   ]
  },
  {
   "cell_type": "code",
   "execution_count": 95,
   "metadata": {},
   "outputs": [
    {
     "name": "stdout",
     "output_type": "stream",
     "text": [
      "['Jerry', 'Sepiroth', 'Bobby Jr', 'Bobby Jr', 'Bobby Jr', 'Tusan', 'bro', 'George']\n"
     ]
    }
   ],
   "source": [
    "names.insert(3,'Bobby Jr')\n",
    "print(names)"
   ]
  },
  {
   "cell_type": "markdown",
   "metadata": {},
   "source": [
    "##### .pop()"
   ]
  },
  {
   "cell_type": "code",
   "execution_count": 89,
   "metadata": {},
   "outputs": [
    {
     "name": "stdout",
     "output_type": "stream",
     "text": [
      "['Bob', 'Jerry', 'bro', 'George']\n",
      "Tusan\n"
     ]
    }
   ],
   "source": [
    "# Defaults last\n",
    "# Returns removed element if you want to assign it elsewhere\n",
    "my_name=names.pop(2)\n",
    "print(names)\n",
    "print(my_name)"
   ]
  },
  {
   "cell_type": "markdown",
   "metadata": {},
   "source": [
    "\n",
    "##### .remove()"
   ]
  },
  {
   "cell_type": "code",
   "execution_count": 97,
   "metadata": {},
   "outputs": [
    {
     "name": "stdout",
     "output_type": "stream",
     "text": [
      "['Jerry', 'Sepiroth', 'Bobby Jr', 'Bobby Jr', 'Tusan', 'bro', 'George']\n",
      "['Jerry', 'Sepiroth', 'Bobby Jr', 'Tusan', 'bro', 'George']\n",
      "['Jerry', 'Sepiroth', 'Tusan', 'bro', 'George']\n"
     ]
    }
   ],
   "source": [
    "# Takes value instead of index\n",
    "# names.remove('Bob')\n",
    "# print(names)\n",
    "\n",
    "#For multiple\n",
    "while 'Bobby Jr' in names:\n",
    "    names.remove('Bobby Jr')\n",
    "    print (names)"
   ]
  },
  {
   "cell_type": "markdown",
   "metadata": {},
   "source": [
    "##### del()"
   ]
  },
  {
   "cell_type": "code",
   "execution_count": 98,
   "metadata": {},
   "outputs": [
    {
     "name": "stdout",
     "output_type": "stream",
     "text": [
      "['Jerry', 'Tusan', 'bro', 'George']\n"
     ]
    }
   ],
   "source": [
    "# Goes by index\n",
    "# Can cause issues if not used carefully\n",
    "\n",
    "del(names[1])\n",
    "print(names)"
   ]
  },
  {
   "cell_type": "markdown",
   "metadata": {},
   "source": [
    "##### Concatenating Two Lists"
   ]
  },
  {
   "cell_type": "code",
   "execution_count": 103,
   "metadata": {},
   "outputs": [
    {
     "name": "stdout",
     "output_type": "stream",
     "text": [
      "[0, 1, 2, 3, 4, 5]\n"
     ]
    }
   ],
   "source": [
    "# Appends two lists, not add values\n",
    "\n",
    "list_2=[0,1,2]\n",
    "list_3=[3,4,5]\n",
    "large_list=list_2+list_3\n",
    "print(large_list)"
   ]
  },
  {
   "cell_type": "markdown",
   "metadata": {},
   "source": [
    "##### Lists Within Lists"
   ]
  },
  {
   "cell_type": "code",
   "execution_count": null,
   "metadata": {},
   "outputs": [],
   "source": [
    "# Can hold any elements including lists\n",
    "# Can go many layers deep (nested lists)\n",
    "\n",
    "names=[\"Max\",\"Sam\",\"Josh\",[\"Sally\",[\"Sue\",\"Jim\"],\"Tameke\"]]\n",
    "print (names)\n",
    "print (names[3][1][1])"
   ]
  },
  {
   "cell_type": "markdown",
   "metadata": {},
   "source": [
    "##### Looping Through Lists"
   ]
  },
  {
   "cell_type": "code",
   "execution_count": 105,
   "metadata": {},
   "outputs": [
    {
     "name": "stdout",
     "output_type": "stream",
     "text": [
      "Max\n",
      "Sam\n",
      "Josh\n",
      "['Sally', ['Sue', 'Jim'], 'Tameke']\n",
      "Max\n",
      "Sam\n",
      "Josh\n",
      "['Sally', ['Sue', 'Jim'], 'Tameke']\n"
     ]
    }
   ],
   "source": [
    "# Two ways to loop\n",
    "\n",
    "# By index\n",
    "for i in range(len(names)):\n",
    "    print (names[i])\n",
    "\n",
    "# or with in\n",
    "for i in names:\n",
    "    print(i)\n",
    "\n"
   ]
  },
  {
   "cell_type": "markdown",
   "metadata": {},
   "source": [
    "## Exercise #1 <br>\n",
    "<p>Cube Number Test... Print out all cubed numbers up to the total value 1000. Meaning that if the cubed number is over 1000 break the loop.</p>"
   ]
  },
  {
   "cell_type": "code",
   "execution_count": 108,
   "metadata": {},
   "outputs": [
    {
     "name": "stdout",
     "output_type": "stream",
     "text": [
      "1\n",
      "8\n",
      "27\n",
      "64\n",
      "125\n",
      "216\n",
      "343\n",
      "512\n",
      "729\n",
      "1000\n"
     ]
    }
   ],
   "source": [
    "# While loop condition will be the cubed value\n",
    "i=1\n",
    "while (i**3)<=1000:\n",
    "    print(i**3)\n",
    "    i+=1"
   ]
  },
  {
   "cell_type": "markdown",
   "metadata": {},
   "source": [
    "## Exercise #2 <br>\n",
    "<p>Get first prime numbers up to 100</p>"
   ]
  },
  {
   "cell_type": "code",
   "execution_count": 70,
   "metadata": {},
   "outputs": [
    {
     "name": "stdout",
     "output_type": "stream",
     "text": [
      "[2, 3, 5, 7, 11, 13, 17, 19, 23, 29, 31, 37, 41, 43, 47, 53, 59, 61, 67, 71, 73, 79, 83, 89, 97]\n",
      "[2, 3, 5, 7, 11, 13, 17, 19, 23, 29, 31, 37, 41, 43, 47, 53, 59, 61, 67, 71, 73, 79, 83, 89, 97]\n",
      "[2, 3, 5, 7, 11, 13, 17, 19, 23, 29, 31, 37, 41, 43, 47, 53, 59, 61, 67, 71, 73, 79, 83, 89, 97]\n"
     ]
    }
   ],
   "source": [
    "# HINT::\n",
    "# An else after an if runs if the if didn’t\n",
    "# An else after a for runs if the for didn’t break\n",
    "    #Gonna ignore initially cause I have a method in mind\n",
    "\n",
    "# So one method the check for primes is to check if it's divisible by any primes (as that encompasses everthing unique)\n",
    "# particularly those that are less than or equal to a square root https://www.wikihow.com/Check-if-a-Number-Is-Prime\n",
    "# We'll use this.\n",
    "\n",
    "# Version without making use of the 'square roots' rule\n",
    "primes=[]\n",
    "for i in range(2,101): #Has to be 101 to include 100, check 2 to 100\n",
    "    flag=False #Flag indicating if it's divisible\n",
    "    for j in range(len(primes)): #For all primes we have\n",
    "        if i%primes[j]==0:\n",
    "            flag=True\n",
    "    if flag==False:\n",
    "        primes.append(i)\n",
    "\n",
    "#Now checking only the primes <= square root i would be more effective, saves probably 70% of checks\n",
    "#I could accomplish that with a while loop that breaks once primes[i] > square root\n",
    "    #I'd have to pull in math for that though, so instead I'll do this\n",
    "primes2=[]\n",
    "for i in range(2,101): \n",
    "    flag=False\n",
    "    for j in range(round(len(primes2)/2)): #The change is here - the round and /2\n",
    "        if i%primes2[j]==0:\n",
    "            flag=True\n",
    "    if flag==False:\n",
    "        primes2.append(i)\n",
    "# The idea is that less than half the primes should be in that 'square root' range\n",
    "    #I wasn't certain this would work, so I compared it (up to 1000), and it was identical\n",
    "    #Namely I thought it could run into issues while the prime list was small\n",
    "    #Saves us from doing half the prime divisiblity checks.\n",
    "    \n",
    "        \n",
    "#now to try to use the hint, I believe the hint makes it so I don't need a flag, using things like pass and break in it's place\n",
    "\n",
    "primes3=[]\n",
    "for i in range(2,101): \n",
    "    for j in range(round(len(primes3)/2)): \n",
    "        if i%primes3[j]==0:\n",
    "            break\n",
    "    else:\n",
    "        primes3.append(i)\n",
    "# Flag comes more naturally to my mind, probably because 'for else' isn't what I'm used to. I'm used to if else\n",
    "\n",
    "    \n",
    "\n",
    "print (primes)\n",
    "print(primes2)\n",
    "print(primes3)\n"
   ]
  },
  {
   "cell_type": "markdown",
   "metadata": {},
   "source": [
    "# Exercise 3 <br>\n",
    "<p>Take in a users input for their age, if they are younger than 18 print kids, if they're 18 to 65 print adults, else print seniors</p>"
   ]
  },
  {
   "cell_type": "code",
   "execution_count": 79,
   "metadata": {},
   "outputs": [
    {
     "name": "stdout",
     "output_type": "stream",
     "text": [
      "What age are you (enter an int): 99\n",
      "seniors\n"
     ]
    }
   ],
   "source": [
    "# This code does not include it's own errors, assumes an int entry\n",
    "age=input(\"What age are you (enter an int): \")\n",
    "\n",
    "if (int(age)<18):\n",
    "    print(\"kids\")\n",
    "elif (int(age)<=65):\n",
    "    print(\"adults\")\n",
    "else:\n",
    "    print('seniors')\n"
   ]
  },
  {
   "cell_type": "code",
   "execution_count": null,
   "metadata": {},
   "outputs": [],
   "source": []
  },
  {
   "cell_type": "code",
   "execution_count": null,
   "metadata": {},
   "outputs": [],
   "source": []
  }
 ],
 "metadata": {
  "kernelspec": {
   "display_name": "Python 3 (ipykernel)",
   "language": "python",
   "name": "python3"
  },
  "language_info": {
   "codemirror_mode": {
    "name": "ipython",
    "version": 3
   },
   "file_extension": ".py",
   "mimetype": "text/x-python",
   "name": "python",
   "nbconvert_exporter": "python",
   "pygments_lexer": "ipython3",
   "version": "3.10.9"
  }
 },
 "nbformat": 4,
 "nbformat_minor": 2
}
